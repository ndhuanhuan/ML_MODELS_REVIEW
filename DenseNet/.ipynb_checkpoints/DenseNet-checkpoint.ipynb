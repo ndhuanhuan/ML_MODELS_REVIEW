{
 "cells": [
  {
   "cell_type": "markdown",
   "metadata": {},
   "source": [
    "DenseNet attacks the problem of vanishing gradient using a different approach.\n",
    "Instead of using shortcut connections, all the previous feature maps will become\n",
    "the input of the next layer.\n",
    "\n",
    "The number of feature maps generated per layer\n",
    "is called the growth rate, k.\n",
    "\n",
    "- To prevent the number of feature maps from increasing to the point of being\n",
    "computationally inefficient, DenseNet introduced the Bottleneck layer\n",
    "The idea is that after every concatenation; a 1 × 1 convolution with\n",
    "a filter size equal to 4k is now applied. This dimensionality reduction technique\n",
    "prevents the number of feature maps to be processed by Conv2D(3) from rapidly\n",
    "increasing.\n"
   ]
  },
  {
   "cell_type": "code",
   "execution_count": null,
   "metadata": {},
   "outputs": [],
   "source": []
  }
 ],
 "metadata": {
  "kernelspec": {
   "display_name": "Python 3",
   "language": "python",
   "name": "python3"
  },
  "language_info": {
   "codemirror_mode": {
    "name": "ipython",
    "version": 3
   },
   "file_extension": ".py",
   "mimetype": "text/x-python",
   "name": "python",
   "nbconvert_exporter": "python",
   "pygments_lexer": "ipython3",
   "version": "3.6.3"
  }
 },
 "nbformat": 4,
 "nbformat_minor": 2
}
